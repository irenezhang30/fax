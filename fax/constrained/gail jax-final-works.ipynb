{
 "cells": [
  {
   "cell_type": "markdown",
   "metadata": {},
   "source": [
    "# To do:\n",
    "- adam optimizer within"
   ]
  },
  {
   "cell_type": "code",
   "execution_count": 1,
   "metadata": {},
   "outputs": [
    {
     "name": "stdout",
     "output_type": "stream",
     "text": [
      "gpu\n"
     ]
    }
   ],
   "source": [
    "from absl.testing import absltest\n",
    "from absl.testing import parameterized\n",
    "\n",
    "import copy\n",
    "import hypothesis.extra.numpy\n",
    "\n",
    "import jax.test_util\n",
    "import jax.numpy as jnp\n",
    "from jax import random\n",
    "from jax import tree_util\n",
    "from jax.experimental import optimizers\n",
    "from jax.scipy.special import logsumexp\n",
    "from jax.experimental.stax import softmax\n",
    "from jax.config import config\n",
    "from jax.random import bernoulli\n",
    "from jax import jacfwd\n",
    "\n",
    "from jax import lax\n",
    "from fax import converge\n",
    "from fax import test_util\n",
    "from fax.constrained import make_lagrangian\n",
    "from fax.constrained import cga_lagrange_min\n",
    "from fax.constrained import cga_ecp\n",
    "from fax.constrained import slsqp_ecp\n",
    "from fax.constrained import implicit_ecp\n",
    "\n",
    "\n",
    "# check device\n",
    "from jax.lib import xla_bridge\n",
    "print(xla_bridge.get_backend().platform)"
   ]
  },
  {
   "cell_type": "code",
   "execution_count": 2,
   "metadata": {},
   "outputs": [],
   "source": [
    "true_transition = jnp.array([[[0.9, 0.1], [0.2, 0.8]],\n",
    "                             [[0.8, 0.2], [0.99, 0.01]]])\n",
    "temperature = 1e-2\n",
    "\n",
    "true_discount = 0.9\n",
    "\n",
    "traj_len = 100\n",
    "\n",
    "initial_distribution = jnp.ones(2) / 2\n",
    "\n",
    "policy_expert = jnp.array(([[0.4, 0.6],\n",
    "                            [0.4,  0.6]]))\n",
    "key = random.PRNGKey(0)\n"
   ]
  },
  {
   "cell_type": "code",
   "execution_count": 3,
   "metadata": {},
   "outputs": [],
   "source": [
    "def get_new_key():\n",
    "    global key\n",
    "    mykey, subkey = random.split(key)\n",
    "    key = subkey\n",
    "\n",
    "\n",
    "def roll_out(last_state, last_action, p, model):\n",
    "    global key\n",
    "    get_new_key()\n",
    "    s = bernoulli(key, p=p[last_action][last_state][0]).astype(int)\n",
    "    get_new_key()\n",
    "    a = bernoulli(key, p=model[s][0]).astype(int)\n",
    "    return (s, a)\n",
    "\n",
    "\n",
    "def sample_trajectory(policy):\n",
    "    get_new_key()\n",
    "    s = bernoulli(key, p=initial_distribution[0]).astype(int)\n",
    "    get_new_key()\n",
    "    a = bernoulli(key, p=policy[s][0]).astype(int)\n",
    "    traj = []\n",
    "    traj.append((s, a))\n",
    "    for i in range(traj_len-1):\n",
    "        s, a = roll_out(s, a, true_transition, policy)\n",
    "        traj.append((s, a))\n",
    "    return jnp.array(copy.deepcopy(traj))\n",
    "\n",
    "\n",
    "# @jax.jit\n",
    "def ratio_loss(discriminator_logits, traj_model, traj_expert):\n",
    "    discriminator = softmax((1. / temperature) * discriminator_logits)\n",
    "    loss = 0\n",
    "    for i in range(traj_len):\n",
    "        s_expert, a_expert = traj_expert[i]\n",
    "        s_model, a_model = traj_model[i]\n",
    "        loss += -jnp.log(discriminator[s_expert][a_expert]) - jnp.log(1 - discriminator[s_model][a_model])\n",
    "    return loss/traj_len\n",
    "\n",
    "def generator(discriminator_logits, traj_model):\n",
    "    gen_losses = []\n",
    "    discriminator = softmax((1. / temperature) * discriminator_logits)\n",
    "    loss = 0\n",
    "    for i in range(traj_len):\n",
    "        s_model, a_model = traj_model[i]\n",
    "        gen_losses.append(jnp.log(discriminator[s_model][a_model]))\n",
    "    return gen_losses"
   ]
  },
  {
   "cell_type": "markdown",
   "metadata": {},
   "source": [
    "# initialize parameters"
   ]
  },
  {
   "cell_type": "code",
   "execution_count": 15,
   "metadata": {},
   "outputs": [],
   "source": [
    "discriminator_logits = jnp.ones((2,2))\n",
    "\n",
    "model_logits = jnp.ones((2,2))\n",
    "\n",
    "opt_init, opt_update, get_params = optimizers.adam(step_size=0.001)\n",
    "opt_state = opt_init(discriminator_logits)\n",
    "\n",
    "opt_init2, opt_update2, get_params2 = optimizers.adam(step_size=0.001)\n",
    "opt_state2 = opt_init2(model_logits)"
   ]
  },
  {
   "cell_type": "markdown",
   "metadata": {},
   "source": [
    "# update discriminator"
   ]
  },
  {
   "cell_type": "code",
   "execution_count": 16,
   "metadata": {},
   "outputs": [],
   "source": [
    "def update_discriminator(i, discriminator_logits, traj_model, traj_expert, opt_state, opt_update, get_params):\n",
    "    ratio_loss_grad = jax.grad(ratio_loss, 0)(discriminator_logits, traj_model, traj_expert)\n",
    "    opt_state = opt_update(i, ratio_loss_grad, opt_state)\n",
    "    discriminator_logits = get_params(opt_state)\n",
    "    return opt_state, discriminator_logits"
   ]
  },
  {
   "cell_type": "code",
   "execution_count": 6,
   "metadata": {},
   "outputs": [
    {
     "data": {
      "text/plain": [
       "DeviceArray([[1., 1.],\n",
       "             [1., 1.]], dtype=float32)"
      ]
     },
     "execution_count": 6,
     "metadata": {},
     "output_type": "execute_result"
    }
   ],
   "source": [
    "discriminator_logits"
   ]
  },
  {
   "cell_type": "markdown",
   "metadata": {},
   "source": [
    "# update ratio"
   ]
  },
  {
   "cell_type": "code",
   "execution_count": 17,
   "metadata": {},
   "outputs": [],
   "source": [
    "def get_log_policy(model_logits, s, a):\n",
    "    policy_model = softmax((1. / temperature) * model_logits)\n",
    "    return jnp.log(policy_model[s][a])\n",
    "\n",
    "policy_grad = jax.grad(get_log_policy)\n"
   ]
  },
  {
   "cell_type": "code",
   "execution_count": 4,
   "metadata": {},
   "outputs": [],
   "source": [
    "def discounted_reward(t, gen_losses, gamma = 0.9):\n",
    "    discounted = [ gamma**(i-t) * gen_losses[i] for i in range(t, len(gen_losses))]\n",
    "    G = jnp.array(discounted).sum()\n",
    "    return G\n",
    "\n",
    "def advantage(t, gen_losses, k, gamma=0.9):\n",
    "    reward = discounted_reward(0, gen_losses[t:t+k], gamma=gamma)\n",
    "#     print (reward)\n",
    "    A = reward + (gamma ** k) * discounted_reward(t + k, gen_losses, gamma = gamma) - discounted_reward(t, gen_losses, gamma = gamma) \n",
    "#     print (discounted_reward(t + k, gen_losses, gamma = gamma))\n",
    "#     print (discounted_reward(t, gen_losses, gamma = gamma))\n",
    "    return A\n",
    "\n",
    "# gen_losses = [1,2,3,4,5,6,7,8]\n",
    "# advantage(0, gen_losses, 1, gamma = 0.1)\n",
    "\n",
    "def GAE(t, gen_losses, gamma=0.9, lamb=0.9):\n",
    "    gae = 0 \n",
    "    for k in range(1,len(gen_losses)-t):\n",
    "#         print (k)\n",
    "#         print (advantage (t, gen_losses, k, gamma))\n",
    "        gae += (lamb ** (k-t)) * advantage (t, gen_losses, k, gamma)\n",
    "    return gae * (1-lamb)\n",
    "\n",
    "    "
   ]
  },
  {
   "cell_type": "code",
   "execution_count": 28,
   "metadata": {},
   "outputs": [],
   "source": [
    "def update_generator(i, model_logits, discriminator_logits, traj_model, opt_state2, opt_update2, get_params2):\n",
    "    generator_losses = generator(discriminator_logits, traj_model)\n",
    "    generator_grad = 0\n",
    "    \n",
    "    for t in range(traj_len):\n",
    "        #grad of log policy\n",
    "        s_model, a_model = traj_model[i]\n",
    "        grad_log_policy = policy_grad(model_logits, s_model, a_model) \n",
    "        reward = discounted_reward(t, generator_losses)\n",
    "        generator_grad += grad_log_policy * reward\n",
    "        \n",
    "    generator_grad = generator_grad/traj_len\n",
    "    opt_state2 = opt_update2(t, generator_grad, opt_state2)\n",
    "    model_logits = get_params2(opt_state2)\n",
    "\n",
    "    return opt_state2, model_logits"
   ]
  },
  {
   "cell_type": "code",
   "execution_count": 9,
   "metadata": {},
   "outputs": [
    {
     "name": "stdout",
     "output_type": "stream",
     "text": [
      "model_logits: [[1. 1.]\n",
      " [1. 1.]]\n",
      "policy [[0.5 0.5]\n",
      " [0.5 0.5]]\n"
     ]
    }
   ],
   "source": [
    "print (\"model_logits:\", model_logits)\n",
    "print (\"policy\", softmax((1. / temperature) * model_logits))\n"
   ]
  },
  {
   "cell_type": "code",
   "execution_count": 29,
   "metadata": {},
   "outputs": [
    {
     "name": "stdout",
     "output_type": "stream",
     "text": [
      "discriminator_logits: [0.999842   1.0001581  1.002008   0.99799204]\n",
      "model_logits: [0.9990242 1.0009757 1.        1.       ]\n",
      "policy [0.4513662 0.5486338 0.5       0.5      ]\n",
      "\n",
      "discriminator_logits: [1.0004891  0.999511   1.0023987  0.99760133]\n",
      "model_logits: [0.9981456 1.0018544 1.0009757 0.9990242]\n",
      "policy [0.40832838 0.59167165 0.5486338  0.4513662 ]\n",
      "\n",
      "discriminator_logits: [1.0005208  0.99947923 1.0022682  0.99773186]\n",
      "model_logits: [0.998383  1.0016171 1.0018544 0.9981456]\n",
      "policy [0.4198449  0.5801551  0.59167165 0.40832838]\n",
      "\n",
      "discriminator_logits: [1.0005476  0.99945235 1.0021287  0.99787134]\n",
      "model_logits: [0.9985967 1.0014033 1.0015652 0.9984348]\n",
      "policy [0.43029132 0.56970865 0.5776294  0.42237058]\n",
      "\n",
      "discriminator_logits: [1.0004758  0.99952424 1.0018859  0.9981142 ]\n",
      "model_logits: [0.99830127 1.0016989  1.0013049  0.9986952 ]\n",
      "policy [0.41586784 0.5841322  0.5648731  0.43512687]\n",
      "\n",
      "discriminator_logits: [1.0005394 0.9994605 1.0016824 0.9983178]\n",
      "model_logits: [0.9980352  1.0019649  1.0005482  0.99945176]\n",
      "policy [0.40300137 0.59699863 0.527385   0.47261503]\n",
      "\n",
      "discriminator_logits: [1.0005183  0.9994817  1.0013968  0.99860334]\n",
      "model_logits: [0.9977956 1.0022045 1.0003462 0.9996538]\n",
      "policy [0.39152768 0.6084723  0.5173042  0.48269582]\n",
      "\n",
      "discriminator_logits: [1.000488   0.99951196 1.0011343  0.99886584]\n",
      "model_logits: [0.9975799  1.0024203  0.99976826 1.0002317 ]\n",
      "policy [0.38129878 0.6187013  0.48841304 0.511587  ]\n",
      "\n",
      "discriminator_logits: [1.0002469 0.9997531 1.0009152 0.999085 ]\n",
      "model_logits: [0.9979709  1.0020293  0.99924785 1.0007521 ]\n",
      "policy [0.39991048 0.6000895  0.46246356 0.53753644]\n",
      "\n",
      "discriminator_logits: [0.99987847 1.0001215  1.000855   0.99914515]\n",
      "model_logits: [0.99832296 1.0016772  0.99921    1.0007899 ]\n",
      "policy [0.41692275 0.58307725 0.46058455 0.5394154 ]\n",
      "\n",
      "discriminator_logits: [0.9994185 1.0005815 1.0007099 0.9992902]\n",
      "model_logits: [0.9982694 1.0017308 0.9991759 1.000824 ]\n",
      "policy [0.41431743 0.58568263 0.45889047 0.54110956]\n",
      "\n",
      "discriminator_logits: [0.99927676 1.0007232  1.00067    0.9993302 ]\n",
      "model_logits: [0.9982211 1.0017791 0.9988313 1.0011686]\n",
      "policy [0.4119774  0.5880226  0.44183102 0.55816895]\n",
      "\n",
      "discriminator_logits: [0.9990833  1.0009167  1.0007278  0.99927235]\n",
      "model_logits: [0.99817765 1.0018226  0.998241   1.0017588 ]\n",
      "policy [0.40987206 0.59012794 0.41295177 0.58704823]\n",
      "\n",
      "discriminator_logits: [0.9991194 1.0008806 1.0007106 0.9992896]\n",
      "model_logits: [0.99782085 1.0021794  0.9977095  1.0022902 ]\n",
      "policy [0.3927298  0.60727024 0.38744223 0.61255777]\n",
      "\n",
      "discriminator_logits: [0.9991796 1.0008204 1.0006851 0.9993151]\n",
      "model_logits: [0.9974996 1.0025007 0.997642  1.0023578]\n",
      "policy [0.37751558 0.62248445 0.38424042 0.6157596 ]\n",
      "\n",
      "discriminator_logits: [0.99939173 1.0006082  1.0006984  0.9993018 ]\n",
      "model_logits: [0.99767494 1.0023253  0.9975811  1.0024186 ]\n",
      "policy [0.3857922  0.6142078  0.38136533 0.61863464]\n",
      "\n",
      "discriminator_logits: [0.99955076 1.0004492  1.0006777  0.9993226 ]\n",
      "model_logits: [0.99783283 1.0021675  0.99787986 1.0021199 ]\n",
      "policy [0.39330128 0.60669875 0.3955591  0.60444087]\n",
      "\n",
      "discriminator_logits: [0.9997325  1.0002674  1.0006843  0.99931604]\n",
      "model_logits: [0.997975  1.0020252 0.9979226 1.0020772]\n",
      "policy [0.4001064  0.59989357 0.39760214 0.60239786]\n",
      "\n",
      "discriminator_logits: [0.9998469 1.0001531 1.0006027 0.9993975]\n"
     ]
    },
    {
     "ename": "KeyboardInterrupt",
     "evalue": "",
     "output_type": "error",
     "traceback": [
      "\u001b[0;31m---------------------------------------------------------------------------\u001b[0m",
      "\u001b[0;31mKeyboardInterrupt\u001b[0m                         Traceback (most recent call last)",
      "\u001b[0;32m<ipython-input-29-b8ca8de68695>\u001b[0m in \u001b[0;36m<module>\u001b[0;34m\u001b[0m\n\u001b[1;32m      6\u001b[0m \u001b[0;34m\u001b[0m\u001b[0m\n\u001b[1;32m      7\u001b[0m     \u001b[0mprint\u001b[0m \u001b[0;34m(\u001b[0m\u001b[0;34m\"discriminator_logits:\"\u001b[0m\u001b[0;34m,\u001b[0m \u001b[0mdiscriminator_logits\u001b[0m\u001b[0;34m.\u001b[0m\u001b[0mflatten\u001b[0m\u001b[0;34m(\u001b[0m\u001b[0;34m)\u001b[0m\u001b[0;34m)\u001b[0m\u001b[0;34m\u001b[0m\u001b[0;34m\u001b[0m\u001b[0m\n\u001b[0;32m----> 8\u001b[0;31m     \u001b[0mopt_state2\u001b[0m\u001b[0;34m,\u001b[0m \u001b[0mmodel_logits\u001b[0m \u001b[0;34m=\u001b[0m \u001b[0mupdate_generator\u001b[0m\u001b[0;34m(\u001b[0m\u001b[0mi\u001b[0m\u001b[0;34m,\u001b[0m \u001b[0mmodel_logits\u001b[0m\u001b[0;34m,\u001b[0m \u001b[0mdiscriminator_logits\u001b[0m\u001b[0;34m,\u001b[0m \u001b[0mtraj_model\u001b[0m\u001b[0;34m,\u001b[0m \u001b[0mopt_state2\u001b[0m\u001b[0;34m,\u001b[0m \u001b[0mopt_update2\u001b[0m\u001b[0;34m,\u001b[0m \u001b[0mget_params2\u001b[0m\u001b[0;34m)\u001b[0m\u001b[0;34m\u001b[0m\u001b[0;34m\u001b[0m\u001b[0m\n\u001b[0m\u001b[1;32m      9\u001b[0m \u001b[0;34m\u001b[0m\u001b[0m\n\u001b[1;32m     10\u001b[0m     \u001b[0mprint\u001b[0m \u001b[0;34m(\u001b[0m\u001b[0;34m\"model_logits:\"\u001b[0m\u001b[0;34m,\u001b[0m \u001b[0mmodel_logits\u001b[0m\u001b[0;34m.\u001b[0m\u001b[0mflatten\u001b[0m\u001b[0;34m(\u001b[0m\u001b[0;34m)\u001b[0m\u001b[0;34m)\u001b[0m\u001b[0;34m\u001b[0m\u001b[0;34m\u001b[0m\u001b[0m\n",
      "\u001b[0;32m<ipython-input-28-8c20085081fa>\u001b[0m in \u001b[0;36mupdate_generator\u001b[0;34m(i, model_logits, discriminator_logits, traj_model, opt_state2, opt_update2, get_params2)\u001b[0m\n\u001b[1;32m      7\u001b[0m         \u001b[0ms_model\u001b[0m\u001b[0;34m,\u001b[0m \u001b[0ma_model\u001b[0m \u001b[0;34m=\u001b[0m \u001b[0mtraj_model\u001b[0m\u001b[0;34m[\u001b[0m\u001b[0mi\u001b[0m\u001b[0;34m]\u001b[0m\u001b[0;34m\u001b[0m\u001b[0;34m\u001b[0m\u001b[0m\n\u001b[1;32m      8\u001b[0m         \u001b[0mgrad_log_policy\u001b[0m \u001b[0;34m=\u001b[0m \u001b[0mpolicy_grad\u001b[0m\u001b[0;34m(\u001b[0m\u001b[0mmodel_logits\u001b[0m\u001b[0;34m,\u001b[0m \u001b[0ms_model\u001b[0m\u001b[0;34m,\u001b[0m \u001b[0ma_model\u001b[0m\u001b[0;34m)\u001b[0m\u001b[0;34m\u001b[0m\u001b[0;34m\u001b[0m\u001b[0m\n\u001b[0;32m----> 9\u001b[0;31m         \u001b[0mreward\u001b[0m \u001b[0;34m=\u001b[0m \u001b[0mdiscounted_reward\u001b[0m\u001b[0;34m(\u001b[0m\u001b[0mt\u001b[0m\u001b[0;34m,\u001b[0m \u001b[0mgenerator_losses\u001b[0m\u001b[0;34m)\u001b[0m\u001b[0;34m\u001b[0m\u001b[0;34m\u001b[0m\u001b[0m\n\u001b[0m\u001b[1;32m     10\u001b[0m         \u001b[0mgenerator_grad\u001b[0m \u001b[0;34m+=\u001b[0m \u001b[0mgrad_log_policy\u001b[0m \u001b[0;34m*\u001b[0m \u001b[0mreward\u001b[0m\u001b[0;34m\u001b[0m\u001b[0;34m\u001b[0m\u001b[0m\n\u001b[1;32m     11\u001b[0m \u001b[0;34m\u001b[0m\u001b[0m\n",
      "\u001b[0;32m<ipython-input-24-980858df2669>\u001b[0m in \u001b[0;36mdiscounted_reward\u001b[0;34m(t, gen_losses, gamma)\u001b[0m\n\u001b[1;32m      1\u001b[0m \u001b[0;32mdef\u001b[0m \u001b[0mdiscounted_reward\u001b[0m\u001b[0;34m(\u001b[0m\u001b[0mt\u001b[0m\u001b[0;34m,\u001b[0m \u001b[0mgen_losses\u001b[0m\u001b[0;34m,\u001b[0m \u001b[0mgamma\u001b[0m \u001b[0;34m=\u001b[0m \u001b[0;36m0.9\u001b[0m\u001b[0;34m)\u001b[0m\u001b[0;34m:\u001b[0m\u001b[0;34m\u001b[0m\u001b[0;34m\u001b[0m\u001b[0m\n\u001b[1;32m      2\u001b[0m     \u001b[0mdiscounted\u001b[0m \u001b[0;34m=\u001b[0m \u001b[0;34m[\u001b[0m \u001b[0mgamma\u001b[0m\u001b[0;34m**\u001b[0m\u001b[0;34m(\u001b[0m\u001b[0mi\u001b[0m\u001b[0;34m-\u001b[0m\u001b[0mt\u001b[0m\u001b[0;34m)\u001b[0m \u001b[0;34m*\u001b[0m \u001b[0mgen_losses\u001b[0m\u001b[0;34m[\u001b[0m\u001b[0mi\u001b[0m\u001b[0;34m]\u001b[0m \u001b[0;32mfor\u001b[0m \u001b[0mi\u001b[0m \u001b[0;32min\u001b[0m \u001b[0mrange\u001b[0m\u001b[0;34m(\u001b[0m\u001b[0mt\u001b[0m\u001b[0;34m,\u001b[0m \u001b[0mlen\u001b[0m\u001b[0;34m(\u001b[0m\u001b[0mgen_losses\u001b[0m\u001b[0;34m)\u001b[0m\u001b[0;34m)\u001b[0m\u001b[0;34m]\u001b[0m\u001b[0;34m\u001b[0m\u001b[0;34m\u001b[0m\u001b[0m\n\u001b[0;32m----> 3\u001b[0;31m     \u001b[0mG\u001b[0m \u001b[0;34m=\u001b[0m \u001b[0mjnp\u001b[0m\u001b[0;34m.\u001b[0m\u001b[0marray\u001b[0m\u001b[0;34m(\u001b[0m\u001b[0mdiscounted\u001b[0m\u001b[0;34m)\u001b[0m\u001b[0;34m.\u001b[0m\u001b[0msum\u001b[0m\u001b[0;34m(\u001b[0m\u001b[0;34m)\u001b[0m\u001b[0;34m\u001b[0m\u001b[0;34m\u001b[0m\u001b[0m\n\u001b[0m\u001b[1;32m      4\u001b[0m     \u001b[0;32mreturn\u001b[0m \u001b[0mG\u001b[0m\u001b[0;34m\u001b[0m\u001b[0;34m\u001b[0m\u001b[0m\n\u001b[1;32m      5\u001b[0m \u001b[0;34m\u001b[0m\u001b[0m\n",
      "\u001b[0;32m~/miniconda3/lib/python3.7/site-packages/jax/numpy/lax_numpy.py\u001b[0m in \u001b[0;36marray\u001b[0;34m(object, dtype, copy, order, ndmin)\u001b[0m\n\u001b[1;32m   1801\u001b[0m   \u001b[0;32melif\u001b[0m \u001b[0misinstance\u001b[0m\u001b[0;34m(\u001b[0m\u001b[0mobject\u001b[0m\u001b[0;34m,\u001b[0m \u001b[0;34m(\u001b[0m\u001b[0mlist\u001b[0m\u001b[0;34m,\u001b[0m \u001b[0mtuple\u001b[0m\u001b[0;34m)\u001b[0m\u001b[0;34m)\u001b[0m\u001b[0;34m:\u001b[0m\u001b[0;34m\u001b[0m\u001b[0;34m\u001b[0m\u001b[0m\n\u001b[1;32m   1802\u001b[0m     \u001b[0;32mif\u001b[0m \u001b[0mobject\u001b[0m\u001b[0;34m:\u001b[0m\u001b[0;34m\u001b[0m\u001b[0;34m\u001b[0m\u001b[0m\n\u001b[0;32m-> 1803\u001b[0;31m       \u001b[0mout\u001b[0m \u001b[0;34m=\u001b[0m \u001b[0mstack\u001b[0m\u001b[0;34m(\u001b[0m\u001b[0;34m[\u001b[0m\u001b[0marray\u001b[0m\u001b[0;34m(\u001b[0m\u001b[0melt\u001b[0m\u001b[0;34m,\u001b[0m \u001b[0mdtype\u001b[0m\u001b[0;34m=\u001b[0m\u001b[0mdtype\u001b[0m\u001b[0;34m)\u001b[0m \u001b[0;32mfor\u001b[0m \u001b[0melt\u001b[0m \u001b[0;32min\u001b[0m \u001b[0mobject\u001b[0m\u001b[0;34m]\u001b[0m\u001b[0;34m)\u001b[0m\u001b[0;34m\u001b[0m\u001b[0;34m\u001b[0m\u001b[0m\n\u001b[0m\u001b[1;32m   1804\u001b[0m     \u001b[0;32melse\u001b[0m\u001b[0;34m:\u001b[0m\u001b[0;34m\u001b[0m\u001b[0;34m\u001b[0m\u001b[0m\n\u001b[1;32m   1805\u001b[0m       \u001b[0mout\u001b[0m \u001b[0;34m=\u001b[0m \u001b[0monp\u001b[0m\u001b[0;34m.\u001b[0m\u001b[0marray\u001b[0m\u001b[0;34m(\u001b[0m\u001b[0;34m[\u001b[0m\u001b[0;34m]\u001b[0m\u001b[0;34m,\u001b[0m \u001b[0mdtype\u001b[0m \u001b[0;32mor\u001b[0m \u001b[0mfloat_\u001b[0m\u001b[0;34m)\u001b[0m\u001b[0;34m\u001b[0m\u001b[0;34m\u001b[0m\u001b[0m\n",
      "\u001b[0;32m~/miniconda3/lib/python3.7/site-packages/jax/numpy/lax_numpy.py\u001b[0m in \u001b[0;36mstack\u001b[0;34m(arrays, axis)\u001b[0m\n\u001b[1;32m   1659\u001b[0m     \u001b[0;32mif\u001b[0m \u001b[0mshape\u001b[0m\u001b[0;34m(\u001b[0m\u001b[0ma\u001b[0m\u001b[0;34m)\u001b[0m \u001b[0;34m!=\u001b[0m \u001b[0mshape0\u001b[0m\u001b[0;34m:\u001b[0m\u001b[0;34m\u001b[0m\u001b[0;34m\u001b[0m\u001b[0m\n\u001b[1;32m   1660\u001b[0m       \u001b[0;32mraise\u001b[0m \u001b[0mValueError\u001b[0m\u001b[0;34m(\u001b[0m\u001b[0;34m\"All input arrays must have the same shape.\"\u001b[0m\u001b[0;34m)\u001b[0m\u001b[0;34m\u001b[0m\u001b[0;34m\u001b[0m\u001b[0m\n\u001b[0;32m-> 1661\u001b[0;31m     \u001b[0mnew_arrays\u001b[0m\u001b[0;34m.\u001b[0m\u001b[0mappend\u001b[0m\u001b[0;34m(\u001b[0m\u001b[0mreshape\u001b[0m\u001b[0;34m(\u001b[0m\u001b[0ma\u001b[0m\u001b[0;34m,\u001b[0m \u001b[0mnew_shape\u001b[0m\u001b[0;34m)\u001b[0m\u001b[0;34m)\u001b[0m\u001b[0;34m\u001b[0m\u001b[0;34m\u001b[0m\u001b[0m\n\u001b[0m\u001b[1;32m   1662\u001b[0m   \u001b[0;32mreturn\u001b[0m \u001b[0mconcatenate\u001b[0m\u001b[0;34m(\u001b[0m\u001b[0mnew_arrays\u001b[0m\u001b[0;34m,\u001b[0m \u001b[0maxis\u001b[0m\u001b[0;34m=\u001b[0m\u001b[0maxis\u001b[0m\u001b[0;34m)\u001b[0m\u001b[0;34m\u001b[0m\u001b[0;34m\u001b[0m\u001b[0m\n\u001b[1;32m   1663\u001b[0m \u001b[0;34m\u001b[0m\u001b[0m\n",
      "\u001b[0;32m~/miniconda3/lib/python3.7/site-packages/jax/numpy/lax_numpy.py\u001b[0m in \u001b[0;36mreshape\u001b[0;34m(a, newshape, order)\u001b[0m\n\u001b[1;32m    875\u001b[0m \u001b[0;32mdef\u001b[0m \u001b[0mreshape\u001b[0m\u001b[0;34m(\u001b[0m\u001b[0ma\u001b[0m\u001b[0;34m,\u001b[0m \u001b[0mnewshape\u001b[0m\u001b[0;34m,\u001b[0m \u001b[0morder\u001b[0m\u001b[0;34m=\u001b[0m\u001b[0;34m\"C\"\u001b[0m\u001b[0;34m)\u001b[0m\u001b[0;34m:\u001b[0m\u001b[0;34m\u001b[0m\u001b[0;34m\u001b[0m\u001b[0m\n\u001b[1;32m    876\u001b[0m   \u001b[0;32mtry\u001b[0m\u001b[0;34m:\u001b[0m\u001b[0;34m\u001b[0m\u001b[0;34m\u001b[0m\u001b[0m\n\u001b[0;32m--> 877\u001b[0;31m     \u001b[0;32mreturn\u001b[0m \u001b[0ma\u001b[0m\u001b[0;34m.\u001b[0m\u001b[0mreshape\u001b[0m\u001b[0;34m(\u001b[0m\u001b[0mnewshape\u001b[0m\u001b[0;34m,\u001b[0m \u001b[0morder\u001b[0m\u001b[0;34m=\u001b[0m\u001b[0morder\u001b[0m\u001b[0;34m)\u001b[0m  \u001b[0;31m# forward to method for ndarrays\u001b[0m\u001b[0;34m\u001b[0m\u001b[0;34m\u001b[0m\u001b[0m\n\u001b[0m\u001b[1;32m    878\u001b[0m   \u001b[0;32mexcept\u001b[0m \u001b[0mAttributeError\u001b[0m\u001b[0;34m:\u001b[0m\u001b[0;34m\u001b[0m\u001b[0;34m\u001b[0m\u001b[0m\n\u001b[1;32m    879\u001b[0m     \u001b[0;32mreturn\u001b[0m \u001b[0m_reshape\u001b[0m\u001b[0;34m(\u001b[0m\u001b[0ma\u001b[0m\u001b[0;34m,\u001b[0m \u001b[0mnewshape\u001b[0m\u001b[0;34m,\u001b[0m \u001b[0morder\u001b[0m\u001b[0;34m=\u001b[0m\u001b[0morder\u001b[0m\u001b[0;34m)\u001b[0m\u001b[0;34m\u001b[0m\u001b[0;34m\u001b[0m\u001b[0m\n",
      "\u001b[0;32m~/miniconda3/lib/python3.7/site-packages/jax/numpy/lax_numpy.py\u001b[0m in \u001b[0;36m_reshape_method\u001b[0;34m(a, *newshape, **kwargs)\u001b[0m\n\u001b[1;32m    913\u001b[0m   \u001b[0;32mif\u001b[0m \u001b[0mlen\u001b[0m\u001b[0;34m(\u001b[0m\u001b[0mnewshape\u001b[0m\u001b[0;34m)\u001b[0m \u001b[0;34m==\u001b[0m \u001b[0;36m1\u001b[0m \u001b[0;32mand\u001b[0m \u001b[0;32mnot\u001b[0m \u001b[0misinstance\u001b[0m\u001b[0;34m(\u001b[0m\u001b[0mnewshape\u001b[0m\u001b[0;34m[\u001b[0m\u001b[0;36m0\u001b[0m\u001b[0;34m]\u001b[0m\u001b[0;34m,\u001b[0m \u001b[0mint\u001b[0m\u001b[0;34m)\u001b[0m\u001b[0;34m:\u001b[0m\u001b[0;34m\u001b[0m\u001b[0;34m\u001b[0m\u001b[0m\n\u001b[1;32m    914\u001b[0m     \u001b[0mnewshape\u001b[0m \u001b[0;34m=\u001b[0m \u001b[0mnewshape\u001b[0m\u001b[0;34m[\u001b[0m\u001b[0;36m0\u001b[0m\u001b[0;34m]\u001b[0m\u001b[0;34m\u001b[0m\u001b[0;34m\u001b[0m\u001b[0m\n\u001b[0;32m--> 915\u001b[0;31m   \u001b[0;32mreturn\u001b[0m \u001b[0m_reshape\u001b[0m\u001b[0;34m(\u001b[0m\u001b[0ma\u001b[0m\u001b[0;34m,\u001b[0m \u001b[0mnewshape\u001b[0m\u001b[0;34m,\u001b[0m \u001b[0morder\u001b[0m\u001b[0;34m=\u001b[0m\u001b[0morder\u001b[0m\u001b[0;34m)\u001b[0m\u001b[0;34m\u001b[0m\u001b[0;34m\u001b[0m\u001b[0m\n\u001b[0m\u001b[1;32m    916\u001b[0m \u001b[0;34m\u001b[0m\u001b[0m\n\u001b[1;32m    917\u001b[0m \u001b[0;34m\u001b[0m\u001b[0m\n",
      "\u001b[0;32m~/miniconda3/lib/python3.7/site-packages/jax/numpy/lax_numpy.py\u001b[0m in \u001b[0;36m_reshape\u001b[0;34m(a, newshape, order)\u001b[0m\n\u001b[1;32m    892\u001b[0m   \u001b[0mcomputed_newshape\u001b[0m \u001b[0;34m=\u001b[0m \u001b[0m_compute_newshape\u001b[0m\u001b[0;34m(\u001b[0m\u001b[0ma\u001b[0m\u001b[0;34m,\u001b[0m \u001b[0mnewshape\u001b[0m\u001b[0;34m)\u001b[0m\u001b[0;34m\u001b[0m\u001b[0;34m\u001b[0m\u001b[0m\n\u001b[1;32m    893\u001b[0m   \u001b[0;32mif\u001b[0m \u001b[0morder\u001b[0m \u001b[0;34m==\u001b[0m \u001b[0;34m\"C\"\u001b[0m\u001b[0;34m:\u001b[0m\u001b[0;34m\u001b[0m\u001b[0;34m\u001b[0m\u001b[0m\n\u001b[0;32m--> 894\u001b[0;31m     \u001b[0;32mreturn\u001b[0m \u001b[0mlax\u001b[0m\u001b[0;34m.\u001b[0m\u001b[0mreshape\u001b[0m\u001b[0;34m(\u001b[0m\u001b[0ma\u001b[0m\u001b[0;34m,\u001b[0m \u001b[0mcomputed_newshape\u001b[0m\u001b[0;34m,\u001b[0m \u001b[0;32mNone\u001b[0m\u001b[0;34m)\u001b[0m\u001b[0;34m\u001b[0m\u001b[0;34m\u001b[0m\u001b[0m\n\u001b[0m\u001b[1;32m    895\u001b[0m   \u001b[0;32melif\u001b[0m \u001b[0morder\u001b[0m \u001b[0;34m==\u001b[0m \u001b[0;34m\"F\"\u001b[0m\u001b[0;34m:\u001b[0m\u001b[0;34m\u001b[0m\u001b[0;34m\u001b[0m\u001b[0m\n\u001b[1;32m    896\u001b[0m     \u001b[0mdims\u001b[0m \u001b[0;34m=\u001b[0m \u001b[0monp\u001b[0m\u001b[0;34m.\u001b[0m\u001b[0marange\u001b[0m\u001b[0;34m(\u001b[0m\u001b[0mndim\u001b[0m\u001b[0;34m(\u001b[0m\u001b[0ma\u001b[0m\u001b[0;34m)\u001b[0m\u001b[0;34m)\u001b[0m\u001b[0;34m[\u001b[0m\u001b[0;34m:\u001b[0m\u001b[0;34m:\u001b[0m\u001b[0;34m-\u001b[0m\u001b[0;36m1\u001b[0m\u001b[0;34m]\u001b[0m\u001b[0;34m\u001b[0m\u001b[0;34m\u001b[0m\u001b[0m\n",
      "\u001b[0;32m~/miniconda3/lib/python3.7/site-packages/jax/lax/lax.py\u001b[0m in \u001b[0;36mreshape\u001b[0;34m(operand, new_sizes, dimensions)\u001b[0m\n\u001b[1;32m    640\u001b[0m   \u001b[0;32melse\u001b[0m\u001b[0;34m:\u001b[0m\u001b[0;34m\u001b[0m\u001b[0;34m\u001b[0m\u001b[0m\n\u001b[1;32m    641\u001b[0m     return reshape_p.bind( operand, new_sizes=new_sizes,\n\u001b[0;32m--> 642\u001b[0;31m                           dimensions=None if same_dims else tuple(dimensions))\n\u001b[0m\u001b[1;32m    643\u001b[0m \u001b[0;34m\u001b[0m\u001b[0m\n\u001b[1;32m    644\u001b[0m \u001b[0;32mdef\u001b[0m \u001b[0mpad\u001b[0m\u001b[0;34m(\u001b[0m\u001b[0moperand\u001b[0m\u001b[0;34m,\u001b[0m \u001b[0mpadding_value\u001b[0m\u001b[0;34m,\u001b[0m \u001b[0mpadding_config\u001b[0m\u001b[0;34m)\u001b[0m\u001b[0;34m:\u001b[0m\u001b[0;34m\u001b[0m\u001b[0;34m\u001b[0m\u001b[0m\n",
      "\u001b[0;32m~/miniconda3/lib/python3.7/site-packages/jax/core.py\u001b[0m in \u001b[0;36mbind\u001b[0;34m(self, *args, **kwargs)\u001b[0m\n\u001b[1;32m    197\u001b[0m     \u001b[0mtop_trace\u001b[0m \u001b[0;34m=\u001b[0m \u001b[0mfind_top_trace\u001b[0m\u001b[0;34m(\u001b[0m\u001b[0margs\u001b[0m\u001b[0;34m)\u001b[0m\u001b[0;34m\u001b[0m\u001b[0;34m\u001b[0m\u001b[0m\n\u001b[1;32m    198\u001b[0m     \u001b[0;32mif\u001b[0m \u001b[0mtop_trace\u001b[0m \u001b[0;32mis\u001b[0m \u001b[0;32mNone\u001b[0m\u001b[0;34m:\u001b[0m\u001b[0;34m\u001b[0m\u001b[0;34m\u001b[0m\u001b[0m\n\u001b[0;32m--> 199\u001b[0;31m       \u001b[0;32mreturn\u001b[0m \u001b[0mself\u001b[0m\u001b[0;34m.\u001b[0m\u001b[0mimpl\u001b[0m\u001b[0;34m(\u001b[0m\u001b[0;34m*\u001b[0m\u001b[0margs\u001b[0m\u001b[0;34m,\u001b[0m \u001b[0;34m**\u001b[0m\u001b[0mkwargs\u001b[0m\u001b[0;34m)\u001b[0m\u001b[0;34m\u001b[0m\u001b[0;34m\u001b[0m\u001b[0m\n\u001b[0m\u001b[1;32m    200\u001b[0m \u001b[0;34m\u001b[0m\u001b[0m\n\u001b[1;32m    201\u001b[0m     \u001b[0mtracers\u001b[0m \u001b[0;34m=\u001b[0m \u001b[0mmap\u001b[0m\u001b[0;34m(\u001b[0m\u001b[0mtop_trace\u001b[0m\u001b[0;34m.\u001b[0m\u001b[0mfull_raise\u001b[0m\u001b[0;34m,\u001b[0m \u001b[0margs\u001b[0m\u001b[0;34m)\u001b[0m\u001b[0;34m\u001b[0m\u001b[0;34m\u001b[0m\u001b[0m\n",
      "\u001b[0;32m~/miniconda3/lib/python3.7/site-packages/jax/lax/lax.py\u001b[0m in \u001b[0;36m_reshape_impl\u001b[0;34m(operand, new_sizes, dimensions)\u001b[0m\n\u001b[1;32m   2557\u001b[0m     \u001b[0mbcast_dims\u001b[0m \u001b[0;34m=\u001b[0m \u001b[0m_is_singleton_reshape\u001b[0m\u001b[0;34m(\u001b[0m\u001b[0mold_sizes\u001b[0m\u001b[0;34m,\u001b[0m \u001b[0mnew_sizes\u001b[0m\u001b[0;34m)\u001b[0m\u001b[0;34m\u001b[0m\u001b[0;34m\u001b[0m\u001b[0m\n\u001b[1;32m   2558\u001b[0m     \u001b[0;32mif\u001b[0m \u001b[0mbcast_dims\u001b[0m \u001b[0;32mis\u001b[0m \u001b[0;32mnot\u001b[0m \u001b[0;32mNone\u001b[0m\u001b[0;34m:\u001b[0m\u001b[0;34m\u001b[0m\u001b[0;34m\u001b[0m\u001b[0m\n\u001b[0;32m-> 2559\u001b[0;31m       \u001b[0maval\u001b[0m \u001b[0;34m=\u001b[0m \u001b[0mShapedArray\u001b[0m\u001b[0;34m(\u001b[0m\u001b[0mnew_sizes\u001b[0m\u001b[0;34m,\u001b[0m \u001b[0moperand\u001b[0m\u001b[0;34m.\u001b[0m\u001b[0mdtype\u001b[0m\u001b[0;34m)\u001b[0m\u001b[0;34m\u001b[0m\u001b[0;34m\u001b[0m\u001b[0m\n\u001b[0m\u001b[1;32m   2560\u001b[0m       \u001b[0mlazy_expr\u001b[0m \u001b[0;34m=\u001b[0m \u001b[0mlazy\u001b[0m\u001b[0;34m.\u001b[0m\u001b[0mbroadcast\u001b[0m\u001b[0;34m(\u001b[0m\u001b[0moperand\u001b[0m\u001b[0;34m.\u001b[0m\u001b[0m_lazy_expr\u001b[0m\u001b[0;34m,\u001b[0m \u001b[0mnew_sizes\u001b[0m\u001b[0;34m,\u001b[0m \u001b[0mbcast_dims\u001b[0m\u001b[0;34m)\u001b[0m\u001b[0;34m\u001b[0m\u001b[0;34m\u001b[0m\u001b[0m\n\u001b[1;32m   2561\u001b[0m       \u001b[0;32mreturn\u001b[0m \u001b[0mxla\u001b[0m\u001b[0;34m.\u001b[0m\u001b[0mDeviceArray\u001b[0m\u001b[0;34m(\u001b[0m\u001b[0maval\u001b[0m\u001b[0;34m,\u001b[0m \u001b[0;32mNone\u001b[0m\u001b[0;34m,\u001b[0m \u001b[0mlazy_expr\u001b[0m\u001b[0;34m,\u001b[0m \u001b[0moperand\u001b[0m\u001b[0;34m.\u001b[0m\u001b[0mdevice_buffer\u001b[0m\u001b[0;34m)\u001b[0m\u001b[0;34m\u001b[0m\u001b[0;34m\u001b[0m\u001b[0m\n",
      "\u001b[0;32m~/miniconda3/lib/python3.7/site-packages/jax/core.py\u001b[0m in \u001b[0;36m__init__\u001b[0;34m(self, shape, dtype, weak_type)\u001b[0m\n\u001b[1;32m    712\u001b[0m   \u001b[0;32mdef\u001b[0m \u001b[0m__init__\u001b[0m\u001b[0;34m(\u001b[0m\u001b[0mself\u001b[0m\u001b[0;34m,\u001b[0m \u001b[0mshape\u001b[0m\u001b[0;34m,\u001b[0m \u001b[0mdtype\u001b[0m\u001b[0;34m,\u001b[0m \u001b[0mweak_type\u001b[0m\u001b[0;34m=\u001b[0m\u001b[0;32mFalse\u001b[0m\u001b[0;34m)\u001b[0m\u001b[0;34m:\u001b[0m\u001b[0;34m\u001b[0m\u001b[0;34m\u001b[0m\u001b[0m\n\u001b[1;32m    713\u001b[0m     \u001b[0msuper\u001b[0m\u001b[0;34m(\u001b[0m\u001b[0mShapedArray\u001b[0m\u001b[0;34m,\u001b[0m \u001b[0mself\u001b[0m\u001b[0;34m)\u001b[0m\u001b[0;34m.\u001b[0m\u001b[0m__init__\u001b[0m\u001b[0;34m(\u001b[0m\u001b[0mdtype\u001b[0m\u001b[0;34m,\u001b[0m \u001b[0mweak_type\u001b[0m\u001b[0;34m=\u001b[0m\u001b[0mweak_type\u001b[0m\u001b[0;34m)\u001b[0m\u001b[0;34m\u001b[0m\u001b[0;34m\u001b[0m\u001b[0m\n\u001b[0;32m--> 714\u001b[0;31m     \u001b[0mself\u001b[0m\u001b[0;34m.\u001b[0m\u001b[0mshape\u001b[0m \u001b[0;34m=\u001b[0m \u001b[0mcanonicalize_shape\u001b[0m\u001b[0;34m(\u001b[0m\u001b[0mshape\u001b[0m\u001b[0;34m)\u001b[0m\u001b[0;34m\u001b[0m\u001b[0;34m\u001b[0m\u001b[0m\n\u001b[0m\u001b[1;32m    715\u001b[0m \u001b[0;34m\u001b[0m\u001b[0m\n\u001b[1;32m    716\u001b[0m   \u001b[0mndim\u001b[0m \u001b[0;34m=\u001b[0m \u001b[0mproperty\u001b[0m\u001b[0;34m(\u001b[0m\u001b[0;32mlambda\u001b[0m \u001b[0mself\u001b[0m\u001b[0;34m:\u001b[0m \u001b[0mlen\u001b[0m\u001b[0;34m(\u001b[0m\u001b[0mself\u001b[0m\u001b[0;34m.\u001b[0m\u001b[0mshape\u001b[0m\u001b[0;34m)\u001b[0m\u001b[0;34m)\u001b[0m\u001b[0;34m\u001b[0m\u001b[0;34m\u001b[0m\u001b[0m\n",
      "\u001b[0;32m~/miniconda3/lib/python3.7/site-packages/jax/core.py\u001b[0m in \u001b[0;36mcanonicalize_shape\u001b[0;34m(shape)\u001b[0m\n\u001b[1;32m    849\u001b[0m   \"\"\"\n\u001b[1;32m    850\u001b[0m   \u001b[0;32mtry\u001b[0m\u001b[0;34m:\u001b[0m\u001b[0;34m\u001b[0m\u001b[0;34m\u001b[0m\u001b[0m\n\u001b[0;32m--> 851\u001b[0;31m     \u001b[0;32mreturn\u001b[0m \u001b[0mtuple\u001b[0m\u001b[0;34m(\u001b[0m\u001b[0mmap\u001b[0m\u001b[0;34m(\u001b[0m\u001b[0m_canonicalize_dimension\u001b[0m\u001b[0;34m,\u001b[0m \u001b[0mshape\u001b[0m\u001b[0;34m)\u001b[0m\u001b[0;34m)\u001b[0m\u001b[0;34m\u001b[0m\u001b[0;34m\u001b[0m\u001b[0m\n\u001b[0m\u001b[1;32m    852\u001b[0m   \u001b[0;32mexcept\u001b[0m \u001b[0mTypeError\u001b[0m\u001b[0;34m:\u001b[0m\u001b[0;34m\u001b[0m\u001b[0;34m\u001b[0m\u001b[0m\n\u001b[1;32m    853\u001b[0m     \u001b[0;32mpass\u001b[0m\u001b[0;34m\u001b[0m\u001b[0;34m\u001b[0m\u001b[0m\n",
      "\u001b[0;32m~/miniconda3/lib/python3.7/site-packages/jax/util.py\u001b[0m in \u001b[0;36msafe_map\u001b[0;34m(f, *args)\u001b[0m\n\u001b[1;32m     32\u001b[0m   \u001b[0;32mfor\u001b[0m \u001b[0marg\u001b[0m \u001b[0;32min\u001b[0m \u001b[0margs\u001b[0m\u001b[0;34m[\u001b[0m\u001b[0;36m1\u001b[0m\u001b[0;34m:\u001b[0m\u001b[0;34m]\u001b[0m\u001b[0;34m:\u001b[0m\u001b[0;34m\u001b[0m\u001b[0;34m\u001b[0m\u001b[0m\n\u001b[1;32m     33\u001b[0m     \u001b[0;32massert\u001b[0m \u001b[0mlen\u001b[0m\u001b[0;34m(\u001b[0m\u001b[0marg\u001b[0m\u001b[0;34m)\u001b[0m \u001b[0;34m==\u001b[0m \u001b[0mn\u001b[0m\u001b[0;34m,\u001b[0m \u001b[0;34m'length mismatch: {}'\u001b[0m\u001b[0;34m.\u001b[0m\u001b[0mformat\u001b[0m\u001b[0;34m(\u001b[0m\u001b[0mlist\u001b[0m\u001b[0;34m(\u001b[0m\u001b[0mmap\u001b[0m\u001b[0;34m(\u001b[0m\u001b[0mlen\u001b[0m\u001b[0;34m,\u001b[0m \u001b[0margs\u001b[0m\u001b[0;34m)\u001b[0m\u001b[0;34m)\u001b[0m\u001b[0;34m)\u001b[0m\u001b[0;34m\u001b[0m\u001b[0;34m\u001b[0m\u001b[0m\n\u001b[0;32m---> 34\u001b[0;31m   \u001b[0;32mreturn\u001b[0m \u001b[0mlist\u001b[0m\u001b[0;34m(\u001b[0m\u001b[0mmap\u001b[0m\u001b[0;34m(\u001b[0m\u001b[0mf\u001b[0m\u001b[0;34m,\u001b[0m \u001b[0;34m*\u001b[0m\u001b[0margs\u001b[0m\u001b[0;34m)\u001b[0m\u001b[0;34m)\u001b[0m\u001b[0;34m\u001b[0m\u001b[0;34m\u001b[0m\u001b[0m\n\u001b[0m\u001b[1;32m     35\u001b[0m \u001b[0;34m\u001b[0m\u001b[0m\n\u001b[1;32m     36\u001b[0m \u001b[0;32mdef\u001b[0m \u001b[0munzip2\u001b[0m\u001b[0;34m(\u001b[0m\u001b[0mxys\u001b[0m\u001b[0;34m)\u001b[0m\u001b[0;34m:\u001b[0m\u001b[0;34m\u001b[0m\u001b[0;34m\u001b[0m\u001b[0m\n",
      "\u001b[0;31mKeyboardInterrupt\u001b[0m: "
     ]
    }
   ],
   "source": [
    "for i in range(50):\n",
    "    policy_model = softmax((1. / temperature) * model_logits)\n",
    "    traj_model = sample_trajectory(policy_model)\n",
    "    traj_expert = sample_trajectory(policy_expert)\n",
    "    opt_state, discriminator_logits = update_discriminator(i, discriminator_logits, traj_model, traj_expert, opt_state, opt_update, get_params)\n",
    "   \n",
    "    print (\"discriminator_logits:\", discriminator_logits.flatten())\n",
    "    opt_state2, model_logits = update_generator(i, model_logits, discriminator_logits, traj_model, opt_state2, opt_update2, get_params2)\n",
    "    \n",
    "    print (\"model_logits:\", model_logits.flatten())\n",
    "    print (\"policy\", softmax((1. / temperature) * model_logits).flatten())\n",
    "    print (\"\")\n",
    "    \n",
    "    \n"
   ]
  },
  {
   "cell_type": "markdown",
   "metadata": {},
   "source": [
    "- baseline in reinforce\n",
    "\n",
    "- implicit differentiation\n",
    "\n",
    "- romina: reinforce generalize advantage estimator in jax"
   ]
  },
  {
   "cell_type": "code",
   "execution_count": null,
   "metadata": {},
   "outputs": [],
   "source": []
  }
 ],
 "metadata": {
  "kernelspec": {
   "display_name": "Python 3",
   "language": "python",
   "name": "python3"
  },
  "language_info": {
   "codemirror_mode": {
    "name": "ipython",
    "version": 3
   },
   "file_extension": ".py",
   "mimetype": "text/x-python",
   "name": "python",
   "nbconvert_exporter": "python",
   "pygments_lexer": "ipython3",
   "version": "3.7.7"
  }
 },
 "nbformat": 4,
 "nbformat_minor": 2
}
